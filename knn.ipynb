{
 "cells": [
  {
   "cell_type": "markdown",
   "id": "4ac7ed45",
   "metadata": {},
   "source": [
    "# import the libraries \n"
   ]
  },
  {
   "cell_type": "code",
   "execution_count": 17,
   "id": "11e66043",
   "metadata": {},
   "outputs": [],
   "source": [
    "import pandas as pd\n",
    "import matplotlib.pyplot as plt\n",
    "import seaborn as sns\n",
    "import numpy as np "
   ]
  },
  {
   "cell_type": "markdown",
   "id": "c08b3db9",
   "metadata": {},
   "source": [
    "# Load Dataset "
   ]
  },
  {
   "cell_type": "code",
   "execution_count": 18,
   "id": "8bc15522",
   "metadata": {},
   "outputs": [],
   "source": [
    "iris=pd.read_csv(\"Iris.csv\")"
   ]
  },
  {
   "cell_type": "code",
   "execution_count": 19,
   "id": "8d545d8c",
   "metadata": {},
   "outputs": [
    {
     "data": {
      "text/html": [
       "<div>\n",
       "<style scoped>\n",
       "    .dataframe tbody tr th:only-of-type {\n",
       "        vertical-align: middle;\n",
       "    }\n",
       "\n",
       "    .dataframe tbody tr th {\n",
       "        vertical-align: top;\n",
       "    }\n",
       "\n",
       "    .dataframe thead th {\n",
       "        text-align: right;\n",
       "    }\n",
       "</style>\n",
       "<table border=\"1\" class=\"dataframe\">\n",
       "  <thead>\n",
       "    <tr style=\"text-align: right;\">\n",
       "      <th></th>\n",
       "      <th>Id</th>\n",
       "      <th>SepalLengthCm</th>\n",
       "      <th>SepalWidthCm</th>\n",
       "      <th>PetalLengthCm</th>\n",
       "      <th>PetalWidthCm</th>\n",
       "      <th>Species</th>\n",
       "    </tr>\n",
       "  </thead>\n",
       "  <tbody>\n",
       "    <tr>\n",
       "      <th>0</th>\n",
       "      <td>1</td>\n",
       "      <td>5.1</td>\n",
       "      <td>3.5</td>\n",
       "      <td>1.4</td>\n",
       "      <td>0.2</td>\n",
       "      <td>Iris-setosa</td>\n",
       "    </tr>\n",
       "    <tr>\n",
       "      <th>1</th>\n",
       "      <td>2</td>\n",
       "      <td>4.9</td>\n",
       "      <td>3.0</td>\n",
       "      <td>1.4</td>\n",
       "      <td>0.2</td>\n",
       "      <td>Iris-setosa</td>\n",
       "    </tr>\n",
       "    <tr>\n",
       "      <th>2</th>\n",
       "      <td>3</td>\n",
       "      <td>4.7</td>\n",
       "      <td>3.2</td>\n",
       "      <td>1.3</td>\n",
       "      <td>0.2</td>\n",
       "      <td>Iris-setosa</td>\n",
       "    </tr>\n",
       "    <tr>\n",
       "      <th>3</th>\n",
       "      <td>4</td>\n",
       "      <td>4.6</td>\n",
       "      <td>3.1</td>\n",
       "      <td>1.5</td>\n",
       "      <td>0.2</td>\n",
       "      <td>Iris-setosa</td>\n",
       "    </tr>\n",
       "    <tr>\n",
       "      <th>4</th>\n",
       "      <td>5</td>\n",
       "      <td>5.0</td>\n",
       "      <td>3.6</td>\n",
       "      <td>1.4</td>\n",
       "      <td>0.2</td>\n",
       "      <td>Iris-setosa</td>\n",
       "    </tr>\n",
       "    <tr>\n",
       "      <th>...</th>\n",
       "      <td>...</td>\n",
       "      <td>...</td>\n",
       "      <td>...</td>\n",
       "      <td>...</td>\n",
       "      <td>...</td>\n",
       "      <td>...</td>\n",
       "    </tr>\n",
       "    <tr>\n",
       "      <th>145</th>\n",
       "      <td>146</td>\n",
       "      <td>6.7</td>\n",
       "      <td>3.0</td>\n",
       "      <td>5.2</td>\n",
       "      <td>2.3</td>\n",
       "      <td>Iris-virginica</td>\n",
       "    </tr>\n",
       "    <tr>\n",
       "      <th>146</th>\n",
       "      <td>147</td>\n",
       "      <td>6.3</td>\n",
       "      <td>2.5</td>\n",
       "      <td>5.0</td>\n",
       "      <td>1.9</td>\n",
       "      <td>Iris-virginica</td>\n",
       "    </tr>\n",
       "    <tr>\n",
       "      <th>147</th>\n",
       "      <td>148</td>\n",
       "      <td>6.5</td>\n",
       "      <td>3.0</td>\n",
       "      <td>5.2</td>\n",
       "      <td>2.0</td>\n",
       "      <td>Iris-virginica</td>\n",
       "    </tr>\n",
       "    <tr>\n",
       "      <th>148</th>\n",
       "      <td>149</td>\n",
       "      <td>6.2</td>\n",
       "      <td>3.4</td>\n",
       "      <td>5.4</td>\n",
       "      <td>2.3</td>\n",
       "      <td>Iris-virginica</td>\n",
       "    </tr>\n",
       "    <tr>\n",
       "      <th>149</th>\n",
       "      <td>150</td>\n",
       "      <td>5.9</td>\n",
       "      <td>3.0</td>\n",
       "      <td>5.1</td>\n",
       "      <td>1.8</td>\n",
       "      <td>Iris-virginica</td>\n",
       "    </tr>\n",
       "  </tbody>\n",
       "</table>\n",
       "<p>150 rows × 6 columns</p>\n",
       "</div>"
      ],
      "text/plain": [
       "      Id  SepalLengthCm  SepalWidthCm  PetalLengthCm  PetalWidthCm  \\\n",
       "0      1            5.1           3.5            1.4           0.2   \n",
       "1      2            4.9           3.0            1.4           0.2   \n",
       "2      3            4.7           3.2            1.3           0.2   \n",
       "3      4            4.6           3.1            1.5           0.2   \n",
       "4      5            5.0           3.6            1.4           0.2   \n",
       "..   ...            ...           ...            ...           ...   \n",
       "145  146            6.7           3.0            5.2           2.3   \n",
       "146  147            6.3           2.5            5.0           1.9   \n",
       "147  148            6.5           3.0            5.2           2.0   \n",
       "148  149            6.2           3.4            5.4           2.3   \n",
       "149  150            5.9           3.0            5.1           1.8   \n",
       "\n",
       "            Species  \n",
       "0       Iris-setosa  \n",
       "1       Iris-setosa  \n",
       "2       Iris-setosa  \n",
       "3       Iris-setosa  \n",
       "4       Iris-setosa  \n",
       "..              ...  \n",
       "145  Iris-virginica  \n",
       "146  Iris-virginica  \n",
       "147  Iris-virginica  \n",
       "148  Iris-virginica  \n",
       "149  Iris-virginica  \n",
       "\n",
       "[150 rows x 6 columns]"
      ]
     },
     "execution_count": 19,
     "metadata": {},
     "output_type": "execute_result"
    }
   ],
   "source": [
    "iris"
   ]
  },
  {
   "cell_type": "code",
   "execution_count": 20,
   "id": "06c64847",
   "metadata": {},
   "outputs": [
    {
     "data": {
      "text/html": [
       "<div>\n",
       "<style scoped>\n",
       "    .dataframe tbody tr th:only-of-type {\n",
       "        vertical-align: middle;\n",
       "    }\n",
       "\n",
       "    .dataframe tbody tr th {\n",
       "        vertical-align: top;\n",
       "    }\n",
       "\n",
       "    .dataframe thead th {\n",
       "        text-align: right;\n",
       "    }\n",
       "</style>\n",
       "<table border=\"1\" class=\"dataframe\">\n",
       "  <thead>\n",
       "    <tr style=\"text-align: right;\">\n",
       "      <th></th>\n",
       "      <th>Id</th>\n",
       "      <th>SepalLengthCm</th>\n",
       "      <th>SepalWidthCm</th>\n",
       "      <th>PetalLengthCm</th>\n",
       "      <th>PetalWidthCm</th>\n",
       "    </tr>\n",
       "  </thead>\n",
       "  <tbody>\n",
       "    <tr>\n",
       "      <th>count</th>\n",
       "      <td>150.000000</td>\n",
       "      <td>150.000000</td>\n",
       "      <td>150.000000</td>\n",
       "      <td>150.000000</td>\n",
       "      <td>150.000000</td>\n",
       "    </tr>\n",
       "    <tr>\n",
       "      <th>mean</th>\n",
       "      <td>75.500000</td>\n",
       "      <td>5.843333</td>\n",
       "      <td>3.054000</td>\n",
       "      <td>3.758667</td>\n",
       "      <td>1.198667</td>\n",
       "    </tr>\n",
       "    <tr>\n",
       "      <th>std</th>\n",
       "      <td>43.445368</td>\n",
       "      <td>0.828066</td>\n",
       "      <td>0.433594</td>\n",
       "      <td>1.764420</td>\n",
       "      <td>0.763161</td>\n",
       "    </tr>\n",
       "    <tr>\n",
       "      <th>min</th>\n",
       "      <td>1.000000</td>\n",
       "      <td>4.300000</td>\n",
       "      <td>2.000000</td>\n",
       "      <td>1.000000</td>\n",
       "      <td>0.100000</td>\n",
       "    </tr>\n",
       "    <tr>\n",
       "      <th>25%</th>\n",
       "      <td>38.250000</td>\n",
       "      <td>5.100000</td>\n",
       "      <td>2.800000</td>\n",
       "      <td>1.600000</td>\n",
       "      <td>0.300000</td>\n",
       "    </tr>\n",
       "    <tr>\n",
       "      <th>50%</th>\n",
       "      <td>75.500000</td>\n",
       "      <td>5.800000</td>\n",
       "      <td>3.000000</td>\n",
       "      <td>4.350000</td>\n",
       "      <td>1.300000</td>\n",
       "    </tr>\n",
       "    <tr>\n",
       "      <th>75%</th>\n",
       "      <td>112.750000</td>\n",
       "      <td>6.400000</td>\n",
       "      <td>3.300000</td>\n",
       "      <td>5.100000</td>\n",
       "      <td>1.800000</td>\n",
       "    </tr>\n",
       "    <tr>\n",
       "      <th>max</th>\n",
       "      <td>150.000000</td>\n",
       "      <td>7.900000</td>\n",
       "      <td>4.400000</td>\n",
       "      <td>6.900000</td>\n",
       "      <td>2.500000</td>\n",
       "    </tr>\n",
       "  </tbody>\n",
       "</table>\n",
       "</div>"
      ],
      "text/plain": [
       "               Id  SepalLengthCm  SepalWidthCm  PetalLengthCm  PetalWidthCm\n",
       "count  150.000000     150.000000    150.000000     150.000000    150.000000\n",
       "mean    75.500000       5.843333      3.054000       3.758667      1.198667\n",
       "std     43.445368       0.828066      0.433594       1.764420      0.763161\n",
       "min      1.000000       4.300000      2.000000       1.000000      0.100000\n",
       "25%     38.250000       5.100000      2.800000       1.600000      0.300000\n",
       "50%     75.500000       5.800000      3.000000       4.350000      1.300000\n",
       "75%    112.750000       6.400000      3.300000       5.100000      1.800000\n",
       "max    150.000000       7.900000      4.400000       6.900000      2.500000"
      ]
     },
     "execution_count": 20,
     "metadata": {},
     "output_type": "execute_result"
    }
   ],
   "source": [
    "iris.describe()"
   ]
  },
  {
   "cell_type": "markdown",
   "id": "414db655",
   "metadata": {},
   "source": [
    "# splitting independent and dependent variables"
   ]
  },
  {
   "cell_type": "code",
   "execution_count": 32,
   "id": "5cbb3d17",
   "metadata": {},
   "outputs": [],
   "source": [
    "X=iris.iloc[:,:-1].values\n",
    "y=iris.iloc[:,4].values"
   ]
  },
  {
   "cell_type": "markdown",
   "id": "037dc184",
   "metadata": {},
   "source": [
    "# Encoding a variables"
   ]
  },
  {
   "cell_type": "code",
   "execution_count": 49,
   "id": "bce9a2b2",
   "metadata": {},
   "outputs": [],
   "source": [
    "from sklearn.preprocessing import LabelEncoder"
   ]
  },
  {
   "cell_type": "code",
   "execution_count": 50,
   "id": "dbbe503a",
   "metadata": {},
   "outputs": [],
   "source": [
    "le=LabelEncoder()"
   ]
  },
  {
   "cell_type": "code",
   "execution_count": 61,
   "id": "78ab199b",
   "metadata": {},
   "outputs": [],
   "source": [
    "y=le.fit_transform(y)"
   ]
  },
  {
   "cell_type": "markdown",
   "id": "a4604faa",
   "metadata": {},
   "source": [
    "# model selection"
   ]
  },
  {
   "cell_type": "code",
   "execution_count": 62,
   "id": "dbb443e5",
   "metadata": {},
   "outputs": [],
   "source": [
    "from sklearn.model_selection import train_test_split\n",
    "X_train, X_test, y_train, y_test = train_test_split(X, y, test_size=0.2, random_state=1)"
   ]
  },
  {
   "cell_type": "markdown",
   "id": "3f8af4af",
   "metadata": {},
   "source": [
    "# Normalization"
   ]
  },
  {
   "cell_type": "code",
   "execution_count": 63,
   "id": "89f4a0f8",
   "metadata": {},
   "outputs": [],
   "source": [
    "from sklearn.preprocessing import MinMaxScaler\n",
    "scaler=MinMaxScaler()\n"
   ]
  },
  {
   "cell_type": "code",
   "execution_count": 64,
   "id": "260329aa",
   "metadata": {},
   "outputs": [],
   "source": [
    "X_train=scaler.fit_transform(X_train)"
   ]
  },
  {
   "cell_type": "code",
   "execution_count": 65,
   "id": "a170410e",
   "metadata": {},
   "outputs": [
    {
     "data": {
      "text/plain": [
       "array([[0.61073826, 0.52941176, 0.41666667, 0.61016949, 0.54166667],\n",
       "       [0.90604027, 1.        , 0.41666667, 0.86440678, 0.91666667],\n",
       "       [0.46308725, 0.38235294, 0.20833333, 0.49152542, 0.41666667],\n",
       "       [0.8590604 , 0.61764706, 0.33333333, 0.77966102, 0.83333333],\n",
       "       [0.76510067, 0.44117647, 0.33333333, 0.69491525, 0.95833333],\n",
       "       [0.32214765, 0.29411765, 0.70833333, 0.08474576, 0.04166667],\n",
       "       [0.3557047 , 0.35294118, 0.125     , 0.50847458, 0.5       ],\n",
       "       [0.18791946, 0.26470588, 0.58333333, 0.06779661, 0.04166667],\n",
       "       [0.36241611, 0.64705882, 0.33333333, 0.61016949, 0.58333333],\n",
       "       [0.72483221, 0.70588235, 0.20833333, 0.81355932, 0.70833333],\n",
       "       [0.75167785, 0.73529412, 0.41666667, 0.76271186, 0.83333333],\n",
       "       [0.11409396, 0.23529412, 0.625     , 0.06779661, 0.08333333],\n",
       "       [0.79865772, 0.5       , 0.08333333, 0.6779661 , 0.58333333],\n",
       "       [0.69127517, 0.58823529, 0.375     , 0.77966102, 0.70833333],\n",
       "       [0.38926174, 0.67647059, 0.375     , 0.61016949, 0.5       ],\n",
       "       [0.79194631, 1.        , 0.25      , 1.        , 0.91666667],\n",
       "       [0.12080537, 0.41176471, 0.75      , 0.11864407, 0.08333333],\n",
       "       [0.02684564, 0.20588235, 0.66666667, 0.06779661, 0.04166667],\n",
       "       [0.30201342, 0.14705882, 0.41666667, 0.06779661, 0.08333333],\n",
       "       [0.39597315, 0.26470588, 0.29166667, 0.49152542, 0.54166667],\n",
       "       [0.26174497, 0.23529412, 0.58333333, 0.08474576, 0.04166667],\n",
       "       [0.24161074, 0.35294118, 0.625     , 0.05084746, 0.04166667],\n",
       "       [0.7852349 , 1.        , 0.75      , 0.96610169, 0.875     ],\n",
       "       [0.93288591, 0.76470588, 0.45833333, 0.74576271, 0.83333333],\n",
       "       [0.71812081, 0.88235294, 0.375     , 0.89830508, 0.70833333],\n",
       "       [0.88590604, 0.61764706, 0.33333333, 0.77966102, 0.875     ],\n",
       "       [0.84563758, 0.55882353, 0.33333333, 0.6440678 , 0.70833333],\n",
       "       [0.5704698 , 0.5       , 0.58333333, 0.59322034, 0.625     ],\n",
       "       [0.81879195, 1.        , 0.33333333, 0.96610169, 0.79166667],\n",
       "       [0.63758389, 0.41176471, 0.41666667, 0.54237288, 0.45833333],\n",
       "       [0.0738255 , 0.14705882, 0.58333333, 0.10169492, 0.04166667],\n",
       "       [0.75838926, 0.41176471, 0.20833333, 0.6779661 , 0.79166667],\n",
       "       [0.82550336, 0.58823529, 0.29166667, 0.66101695, 0.70833333],\n",
       "       [0.08053691, 0.14705882, 0.41666667, 0.06779661, 0.        ],\n",
       "       [0.01342282, 0.11764706, 0.5       , 0.05084746, 0.04166667],\n",
       "       [0.69798658, 0.64705882, 0.41666667, 0.81355932, 0.875     ],\n",
       "       [0.04026846, 0.08823529, 0.58333333, 0.06779661, 0.08333333],\n",
       "       [0.85234899, 0.52941176, 0.41666667, 0.66101695, 0.70833333],\n",
       "       [0.73825503, 0.64705882, 0.5       , 0.69491525, 0.79166667],\n",
       "       [0.43624161, 0.70588235, 0.45833333, 0.57627119, 0.54166667],\n",
       "       [0.36912752, 0.41176471, 0.33333333, 0.59322034, 0.5       ],\n",
       "       [0.96644295, 0.70588235, 0.54166667, 0.79661017, 1.        ],\n",
       "       [0.9261745 , 0.5       , 0.41666667, 0.6440678 , 0.70833333],\n",
       "       [0.30872483, 0.23529412, 0.75      , 0.10169492, 0.04166667],\n",
       "       [0.41610738, 0.5       , 0.08333333, 0.50847458, 0.375     ],\n",
       "       [0.4966443 , 0.61764706, 0.375     , 0.55932203, 0.5       ],\n",
       "       [0.77852349, 0.64705882, 0.41666667, 0.76271186, 0.70833333],\n",
       "       [0.62416107, 0.20588235, 0.125     , 0.38983051, 0.375     ],\n",
       "       [0.67114094, 0.58823529, 0.54166667, 0.84745763, 1.        ],\n",
       "       [0.59731544, 0.35294118, 0.20833333, 0.50847458, 0.5       ],\n",
       "       [0.06711409, 0.32352941, 0.70833333, 0.08474576, 0.04166667],\n",
       "       [0.22818792, 0.17647059, 0.45833333, 0.08474576, 0.        ],\n",
       "       [0.2147651 , 0.26470588, 0.875     , 0.08474576, 0.        ],\n",
       "       [0.83221477, 0.70588235, 0.54166667, 0.79661017, 0.83333333],\n",
       "       [0.25503356, 0.02941176, 0.41666667, 0.05084746, 0.04166667],\n",
       "       [0.55704698, 0.5       , 0.29166667, 0.69491525, 0.625     ],\n",
       "       [0.74496644, 0.61764706, 0.29166667, 0.72881356, 0.75      ],\n",
       "       [1.        , 0.47058824, 0.41666667, 0.69491525, 0.70833333],\n",
       "       [0.18120805, 0.26470588, 0.625     , 0.08474576, 0.04166667],\n",
       "       [0.15436242, 0.23529412, 0.54166667, 0.11864407, 0.16666667],\n",
       "       [0.44966443, 0.44117647, 0.29166667, 0.52542373, 0.375     ],\n",
       "       [0.06040268, 0.17647059, 0.45833333, 0.08474576, 0.        ],\n",
       "       [0.87248322, 0.91176471, 0.33333333, 0.86440678, 0.75      ],\n",
       "       [0.65100671, 0.55882353, 0.375     , 0.55932203, 0.5       ],\n",
       "       [0.70469799, 0.97058824, 0.41666667, 0.94915254, 0.83333333],\n",
       "       [0.97315436, 0.70588235, 0.41666667, 0.71186441, 0.91666667],\n",
       "       [0.58389262, 0.58823529, 0.125     , 0.57627119, 0.5       ],\n",
       "       [0.99328859, 0.55882353, 0.58333333, 0.74576271, 0.91666667],\n",
       "       [0.73154362, 0.85294118, 0.66666667, 0.86440678, 1.        ],\n",
       "       [0.4295302 , 0.38235294, 0.375     , 0.44067797, 0.5       ],\n",
       "       [0.10067114, 0.41176471, 1.        , 0.08474576, 0.125     ],\n",
       "       [0.55033557, 0.44117647, 0.29166667, 0.49152542, 0.45833333],\n",
       "       [0.27516779, 0.05882353, 0.125     , 0.05084746, 0.08333333],\n",
       "       [0.53691275, 0.35294118, 0.16666667, 0.47457627, 0.41666667],\n",
       "       [0.34899329, 0.76470588, 0.45833333, 0.66101695, 0.58333333],\n",
       "       [0.17449664, 0.20588235, 0.58333333, 0.10169492, 0.125     ],\n",
       "       [0.51006711, 0.73529412, 0.33333333, 0.6440678 , 0.54166667],\n",
       "       [0.2885906 , 0.20588235, 0.625     , 0.10169492, 0.20833333],\n",
       "       [0.16107383, 0.14705882, 0.58333333, 0.15254237, 0.04166667],\n",
       "       [0.91275168, 0.58823529, 0.58333333, 0.77966102, 0.95833333],\n",
       "       [0.81208054, 0.38235294, 0.33333333, 0.66101695, 0.79166667],\n",
       "       [0.95973154, 0.73529412, 0.5       , 0.83050847, 0.91666667],\n",
       "       [0.32885906, 0.20588235, 0.54166667, 0.06779661, 0.04166667],\n",
       "       [0.1409396 , 0.23529412, 0.70833333, 0.08474576, 0.125     ],\n",
       "       [0.46979866, 0.47058824, 0.5       , 0.6440678 , 0.70833333],\n",
       "       [0.02013423, 0.08823529, 0.45833333, 0.08474576, 0.04166667],\n",
       "       [0.95302013, 0.44117647, 0.29166667, 0.69491525, 0.75      ],\n",
       "       [0.20134228, 0.14705882, 0.45833333, 0.10169492, 0.04166667],\n",
       "       [0.98657718, 0.64705882, 0.41666667, 0.71186441, 0.79166667],\n",
       "       [0.7114094 , 0.17647059, 0.20833333, 0.59322034, 0.66666667],\n",
       "       [0.31543624, 0.08823529, 0.5       , 0.06779661, 0.04166667],\n",
       "       [0.77181208, 0.61764706, 0.5       , 0.72881356, 0.91666667],\n",
       "       [0.08724832, 0.        , 0.41666667, 0.01694915, 0.        ],\n",
       "       [0.59060403, 0.38235294, 0.41666667, 0.52542373, 0.5       ],\n",
       "       [0.05369128, 0.02941176, 0.375     , 0.06779661, 0.04166667],\n",
       "       [0.54362416, 0.35294118, 0.16666667, 0.45762712, 0.375     ],\n",
       "       [0.40268456, 0.20588235, 0.        , 0.42372881, 0.375     ],\n",
       "       [0.        , 0.23529412, 0.625     , 0.06779661, 0.04166667],\n",
       "       [0.00671141, 0.17647059, 0.41666667, 0.06779661, 0.04166667],\n",
       "       [0.38255034, 0.17647059, 0.16666667, 0.38983051, 0.375     ],\n",
       "       [0.14765101, 0.08823529, 0.66666667, 0.        , 0.04166667],\n",
       "       [0.40939597, 0.47058824, 0.41666667, 0.54237288, 0.58333333],\n",
       "       [0.42281879, 0.52941176, 0.375     , 0.62711864, 0.54166667],\n",
       "       [0.04697987, 0.20588235, 0.58333333, 0.08474576, 0.04166667],\n",
       "       [0.57718121, 0.70588235, 0.45833333, 0.62711864, 0.58333333],\n",
       "       [0.6442953 , 0.41176471, 0.375     , 0.54237288, 0.5       ],\n",
       "       [0.45637584, 0.55882353, 0.08333333, 0.59322034, 0.58333333],\n",
       "       [0.33557047, 0.79411765, 0.5       , 0.62711864, 0.54166667],\n",
       "       [0.67785235, 0.44117647, 0.29166667, 0.69491525, 0.75      ],\n",
       "       [0.13422819, 0.32352941, 0.58333333, 0.11864407, 0.04166667],\n",
       "       [0.16778523, 0.20588235, 0.41666667, 0.10169492, 0.04166667],\n",
       "       [0.89932886, 0.52941176, 0.25      , 0.77966102, 0.54166667],\n",
       "       [0.47651007, 0.52941176, 0.33333333, 0.50847458, 0.5       ],\n",
       "       [0.86577181, 0.85294118, 0.41666667, 0.81355932, 0.625     ],\n",
       "       [0.53020134, 0.41176471, 0.25      , 0.42372881, 0.375     ],\n",
       "       [0.89261745, 0.58823529, 0.33333333, 0.69491525, 0.58333333],\n",
       "       [0.91946309, 0.61764706, 0.45833333, 0.76271186, 0.70833333],\n",
       "       [0.48322148, 0.58823529, 0.20833333, 0.66101695, 0.58333333],\n",
       "       [0.93959732, 0.70588235, 0.45833333, 0.77966102, 0.95833333],\n",
       "       [0.24832215, 0.17647059, 0.45833333, 0.08474576, 0.        ]])"
      ]
     },
     "execution_count": 65,
     "metadata": {},
     "output_type": "execute_result"
    }
   ],
   "source": [
    "X_train"
   ]
  },
  {
   "cell_type": "code",
   "execution_count": 66,
   "id": "c76742de",
   "metadata": {},
   "outputs": [],
   "source": [
    "X_test=scaler.transform(X_test)\n"
   ]
  },
  {
   "cell_type": "code",
   "execution_count": 67,
   "id": "f8359e85",
   "metadata": {},
   "outputs": [
    {
     "data": {
      "text/plain": [
       "array([[0.09395973, 0.44117647, 0.83333333, 0.03389831, 0.04166667],\n",
       "       [0.65771812, 0.23529412, 0.20833333, 0.33898305, 0.41666667],\n",
       "       [0.5033557 , 0.67647059, 0.41666667, 0.57627119, 0.54166667],\n",
       "       [0.10738255, 0.32352941, 0.79166667, 0.05084746, 0.125     ],\n",
       "       [0.87919463, 1.05882353, 0.75      , 0.91525424, 0.79166667],\n",
       "       [0.37583893, 0.58823529, 0.54166667, 0.62711864, 0.625     ],\n",
       "       [0.94630872, 0.76470588, 0.45833333, 0.69491525, 0.91666667],\n",
       "       [0.29530201, 0.23529412, 0.75      , 0.15254237, 0.125     ],\n",
       "       [0.19463087, 0.11764706, 0.5       , 0.10169492, 0.04166667],\n",
       "       [0.80536913, 0.76470588, 0.5       , 0.79661017, 0.91666667],\n",
       "       [0.63087248, 0.38235294, 0.29166667, 0.54237288, 0.5       ],\n",
       "       [0.03355705, 0.32352941, 0.79166667, 0.11864407, 0.125     ],\n",
       "       [0.68456376, 0.82352941, 0.41666667, 0.83050847, 0.83333333],\n",
       "       [0.34228188, 0.61764706, 0.5       , 0.59322034, 0.58333333],\n",
       "       [0.52348993, 0.5       , 0.375     , 0.59322034, 0.58333333],\n",
       "       [0.28187919, 0.02941176, 0.5       , 0.05084746, 0.04166667],\n",
       "       [0.61744966, 0.44117647, 0.25      , 0.50847458, 0.45833333],\n",
       "       [0.44295302, 0.38235294, 0.41666667, 0.59322034, 0.58333333],\n",
       "       [0.20805369, 0.32352941, 0.58333333, 0.08474576, 0.125     ],\n",
       "       [0.23489933, 0.20588235, 0.5       , 0.03389831, 0.04166667],\n",
       "       [0.60402685, 0.35294118, 0.25      , 0.57627119, 0.45833333],\n",
       "       [0.56375839, 0.32352941, 0.41666667, 0.59322034, 0.58333333],\n",
       "       [0.51677852, 0.70588235, 0.41666667, 0.6779661 , 0.66666667],\n",
       "       [0.26845638, 0.20588235, 0.625     , 0.05084746, 0.08333333],\n",
       "       [0.83892617, 0.85294118, 0.5       , 0.84745763, 0.70833333],\n",
       "       [0.66442953, 0.41176471, 0.33333333, 0.52542373, 0.5       ],\n",
       "       [0.22147651, 0.35294118, 0.91666667, 0.06779661, 0.04166667],\n",
       "       [0.12751678, 0.23529412, 0.75      , 0.08474576, 0.08333333],\n",
       "       [0.48993289, 0.52941176, 0.33333333, 0.62711864, 0.45833333],\n",
       "       [0.97986577, 0.58823529, 0.20833333, 0.6779661 , 0.75      ]])"
      ]
     },
     "execution_count": 67,
     "metadata": {},
     "output_type": "execute_result"
    }
   ],
   "source": [
    "X_test"
   ]
  },
  {
   "cell_type": "markdown",
   "id": "fb3706d6",
   "metadata": {},
   "source": [
    "# model building"
   ]
  },
  {
   "cell_type": "code",
   "execution_count": 68,
   "id": "1ec10a3b",
   "metadata": {},
   "outputs": [],
   "source": [
    "from sklearn.neighbors import KNeighborsClassifier \n"
   ]
  },
  {
   "cell_type": "code",
   "execution_count": 69,
   "id": "6d5feab9",
   "metadata": {},
   "outputs": [],
   "source": [
    "knn_model=KNeighborsClassifier(10)\n"
   ]
  },
  {
   "cell_type": "code",
   "execution_count": 70,
   "id": "6357724e",
   "metadata": {},
   "outputs": [
    {
     "data": {
      "text/plain": [
       "KNeighborsClassifier(n_neighbors=10)"
      ]
     },
     "execution_count": 70,
     "metadata": {},
     "output_type": "execute_result"
    }
   ],
   "source": [
    "knn_model.fit(X_train,y_train)\n"
   ]
  },
  {
   "cell_type": "markdown",
   "id": "0c952da9",
   "metadata": {},
   "source": [
    "# Evaluate"
   ]
  },
  {
   "cell_type": "code",
   "execution_count": 72,
   "id": "d4904b7e",
   "metadata": {},
   "outputs": [],
   "source": [
    "y_pred=knn_model.predict(X_test)"
   ]
  },
  {
   "cell_type": "code",
   "execution_count": 73,
   "id": "b2804cc4",
   "metadata": {},
   "outputs": [
    {
     "name": "stdout",
     "output_type": "stream",
     "text": [
      "              precision    recall  f1-score   support\n",
      "\n",
      "           1       0.45      1.00      0.62         5\n",
      "           2       0.00      0.00      0.00         2\n",
      "           3       0.00      0.00      0.00         4\n",
      "           6       0.00      0.00      0.00         0\n",
      "           7       0.00      0.00      0.00         1\n",
      "           8       0.00      0.00      0.00         3\n",
      "           9       0.25      1.00      0.40         2\n",
      "          10       0.00      0.00      0.00         1\n",
      "          11       0.50      0.25      0.33         4\n",
      "          12       0.00      0.00      0.00         1\n",
      "          13       0.00      0.00      0.00         1\n",
      "          14       0.00      0.00      0.00         1\n",
      "          15       0.00      0.00      0.00         1\n",
      "          16       0.00      0.00      0.00         1\n",
      "          17       0.20      1.00      0.33         1\n",
      "          19       0.00      0.00      0.00         2\n",
      "\n",
      "    accuracy                           0.30        30\n",
      "   macro avg       0.09      0.20      0.11        30\n",
      "weighted avg       0.17      0.30      0.19        30\n",
      "\n",
      "[[5 0 0 0 0 0 0 0 0 0 0 0 0 0 0 0]\n",
      " [2 0 0 0 0 0 0 0 0 0 0 0 0 0 0 0]\n",
      " [4 0 0 0 0 0 0 0 0 0 0 0 0 0 0 0]\n",
      " [0 0 0 0 0 0 0 0 0 0 0 0 0 0 0 0]\n",
      " [0 0 0 1 0 0 0 0 0 0 0 0 0 0 0 0]\n",
      " [0 0 0 1 0 0 2 0 0 0 0 0 0 0 0 0]\n",
      " [0 0 0 0 0 0 2 0 0 0 0 0 0 0 0 0]\n",
      " [0 0 0 0 0 0 1 0 0 0 0 0 0 0 0 0]\n",
      " [0 0 0 0 0 0 3 0 1 0 0 0 0 0 0 0]\n",
      " [0 0 0 0 0 0 0 0 1 0 0 0 0 0 0 0]\n",
      " [0 0 0 0 0 0 0 1 0 0 0 0 0 0 0 0]\n",
      " [0 0 0 0 0 0 0 0 0 0 0 0 0 0 1 0]\n",
      " [0 0 0 0 0 0 0 0 0 0 0 1 0 0 0 0]\n",
      " [0 0 0 0 0 0 0 0 0 0 0 0 0 0 1 0]\n",
      " [0 0 0 0 0 0 0 0 0 0 0 0 0 0 1 0]\n",
      " [0 0 0 0 0 0 0 0 0 0 0 0 0 0 2 0]]\n"
     ]
    },
    {
     "name": "stderr",
     "output_type": "stream",
     "text": [
      "C:\\Users\\aishw\\anaconda3\\lib\\site-packages\\sklearn\\metrics\\_classification.py:1318: UndefinedMetricWarning: Precision and F-score are ill-defined and being set to 0.0 in labels with no predicted samples. Use `zero_division` parameter to control this behavior.\n",
      "  _warn_prf(average, modifier, msg_start, len(result))\n",
      "C:\\Users\\aishw\\anaconda3\\lib\\site-packages\\sklearn\\metrics\\_classification.py:1318: UndefinedMetricWarning: Recall and F-score are ill-defined and being set to 0.0 in labels with no true samples. Use `zero_division` parameter to control this behavior.\n",
      "  _warn_prf(average, modifier, msg_start, len(result))\n",
      "C:\\Users\\aishw\\anaconda3\\lib\\site-packages\\sklearn\\metrics\\_classification.py:1318: UndefinedMetricWarning: Precision and F-score are ill-defined and being set to 0.0 in labels with no predicted samples. Use `zero_division` parameter to control this behavior.\n",
      "  _warn_prf(average, modifier, msg_start, len(result))\n",
      "C:\\Users\\aishw\\anaconda3\\lib\\site-packages\\sklearn\\metrics\\_classification.py:1318: UndefinedMetricWarning: Recall and F-score are ill-defined and being set to 0.0 in labels with no true samples. Use `zero_division` parameter to control this behavior.\n",
      "  _warn_prf(average, modifier, msg_start, len(result))\n",
      "C:\\Users\\aishw\\anaconda3\\lib\\site-packages\\sklearn\\metrics\\_classification.py:1318: UndefinedMetricWarning: Precision and F-score are ill-defined and being set to 0.0 in labels with no predicted samples. Use `zero_division` parameter to control this behavior.\n",
      "  _warn_prf(average, modifier, msg_start, len(result))\n",
      "C:\\Users\\aishw\\anaconda3\\lib\\site-packages\\sklearn\\metrics\\_classification.py:1318: UndefinedMetricWarning: Recall and F-score are ill-defined and being set to 0.0 in labels with no true samples. Use `zero_division` parameter to control this behavior.\n",
      "  _warn_prf(average, modifier, msg_start, len(result))\n"
     ]
    }
   ],
   "source": [
    "from sklearn.metrics import classification_report,confusion_matrix\n",
    "print(classification_report(y_test,y_pred))\n",
    "print(confusion_matrix(y_test,y_pred))"
   ]
  },
  {
   "cell_type": "code",
   "execution_count": null,
   "id": "9f108bce",
   "metadata": {},
   "outputs": [],
   "source": []
  }
 ],
 "metadata": {
  "kernelspec": {
   "display_name": "Python 3 (ipykernel)",
   "language": "python",
   "name": "python3"
  },
  "language_info": {
   "codemirror_mode": {
    "name": "ipython",
    "version": 3
   },
   "file_extension": ".py",
   "mimetype": "text/x-python",
   "name": "python",
   "nbconvert_exporter": "python",
   "pygments_lexer": "ipython3",
   "version": "3.9.12"
  }
 },
 "nbformat": 4,
 "nbformat_minor": 5
}
